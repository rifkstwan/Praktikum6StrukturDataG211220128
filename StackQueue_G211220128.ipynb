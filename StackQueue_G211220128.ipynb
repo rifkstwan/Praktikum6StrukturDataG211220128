{
  "nbformat": 4,
  "nbformat_minor": 0,
  "metadata": {
    "colab": {
      "provenance": []
    },
    "kernelspec": {
      "name": "python3",
      "display_name": "Python 3"
    },
    "language_info": {
      "name": "python"
    }
  },
  "cells": [
    {
      "cell_type": "code",
      "source": [
        "from collections import deque #mengimpor kelas 'deque' dari modul 'collections' di Python.\n",
        "queue = deque([\"Ram\", \"Tarum\", \"Asif\", \"john\"]) #Membuat objek deque yang disebut queue dan menginisialisasinya dengan empat elemen string\n",
        "print(queue) # Mencetak isi antrian pada saat ini\n",
        "queue.append(\"Akbar\") #Menambahkan elemen \"Akbar\" ke ujung belakang antrian menggunakan metode append.\n",
        "print(queue) #Mencetak isi antrian setelah penambahan elemen \"Akbar\".\n",
        "queue.append(\"Birbal\") #Menambahkan elemen \"Birbal\" ke ujung belakang antrian.\n",
        "print(queue) #Mencetak isi antrian setelah penambahan elemen \"Birbal\".\n",
        "print(queue.popleft()) #Menghapus dan mencetak elemen pertama dari antrian menggunakan metode popleft.\n",
        "print(queue.popleft()) #Menghapus dan mencetak elemen pertama dari antrian menggunakan metode popleft.\n",
        "print(queue) #Mencetak isi antrian setelah dua operasi penghapusan elemen pertama."
      ],
      "metadata": {
        "colab": {
          "base_uri": "https://localhost:8080/"
        },
        "id": "-DuVzx9M7lcu",
        "outputId": "a0810a22-a3f2-46f7-f3f9-5eac4cb6e69d"
      },
      "execution_count": 6,
      "outputs": [
        {
          "output_type": "stream",
          "name": "stdout",
          "text": [
            "deque(['Ram', 'Tarum', 'Asif', 'john'])\n",
            "deque(['Ram', 'Tarum', 'Asif', 'john', 'Akbar'])\n",
            "deque(['Ram', 'Tarum', 'Asif', 'john', 'Akbar', 'Birbal'])\n",
            "Ram\n",
            "Tarum\n",
            "deque(['Asif', 'john', 'Akbar', 'Birbal'])\n"
          ]
        }
      ]
    },
    {
      "cell_type": "code",
      "source": [
        "def TowerOfHanoi (n, dr, menuju, bantuan): #Deklarasi Fungsi:\n",
        "    if n == 0: #Kondisi Terminasi Rekursi:\n",
        "      return\n",
        "    TowerOfHanoi(n-1, dr, bantuan, menuju) #Pemanggilan Rekursif Pertama:\n",
        "    print(\"Pindah disk\", n, \"dari\", dr, \"ke\", menuju) #Cetak Pemindahan Disk:\n",
        "    TowerOfHanoi(n-1, bantuan, dr, menuju) #Pemanggilan Rekursif Kedua:\n",
        "\n",
        "#Driver code\n",
        "N = 3 #Menginisialisasi variabel N dengan nilai 3, menandakan bahwa ada 3 disk yang akan dipindahkan.\n",
        "#A, C, B are the name of rods\n",
        "TowerOfHanoi (N, 'A', 'C', 'B') #Memanggil fungsi TowerOfHanoi dengan parameter N, tiang awal 'A', tiang tujuan 'C', dan tiang bantuan 'B' untuk memulai pemindahan disk."
      ],
      "metadata": {
        "colab": {
          "base_uri": "https://localhost:8080/"
        },
        "id": "ibQsue7B7qww",
        "outputId": "8385e3c2-c526-4443-94f6-ea6319e3e916"
      },
      "execution_count": 7,
      "outputs": [
        {
          "output_type": "stream",
          "name": "stdout",
          "text": [
            "Pindah disk 1 dari A ke C\n",
            "Pindah disk 2 dari A ke B\n",
            "Pindah disk 1 dari C ke A\n",
            "Pindah disk 3 dari A ke C\n",
            "Pindah disk 1 dari B ke C\n",
            "Pindah disk 2 dari B ke A\n",
            "Pindah disk 1 dari C ke B\n"
          ]
        }
      ]
    },
    {
      "cell_type": "code",
      "source": [
        "def sortStack(input):\n",
        "  tmpStack = []\n",
        "  while (len(input) > 0):\n",
        "\n",
        "    #pop out the first element\n",
        "    tmp = input[-1]\n",
        "    input.pop()\n",
        "\n",
        "    #while temporary stack is not empty\n",
        "    #and top of stack is smaller than temp\n",
        "    while (len(tmpStack) > 0 and tmpStack[-1] < tmp):\n",
        "\n",
        "      #pop from temporary stack and\n",
        "      #append it to the input stack\n",
        "      input.append(tmpStack[-1])\n",
        "      tmpStack.pop()\n",
        "\n",
        "    #append temp in temporary of stack\n",
        "    tmpStack.append(tmp)\n",
        "\n",
        "  return tmpStack\n",
        "def sortArrayUsingStacks(arr, n):\n",
        "\n",
        "  #append array elements to stack\n",
        "  input = []\n",
        "  i = 0\n",
        "  while (i < n):\n",
        "    input.append(arr[i])\n",
        "    i = i + 1\n",
        "\n",
        "  #sort the temporary stack\n",
        "  tmpStack = sortStack(input)\n",
        "  i = 0\n",
        "\n",
        "  #put stack elements in arrp[]\n",
        "  while (i < n):\n",
        "    arr[i] = tmpStack[-1]\n",
        "    tmpStack.pop()\n",
        "    i = i + 1\n",
        "    return arr\n",
        "\n",
        "  #Driver code\n",
        "  arr = [10, 5, 15, 45]\n",
        "  n = len(arr)\n",
        "\n",
        "  arr = sortArrayUsingStacks(arr, n)\n",
        "  i = 0\n",
        "\n",
        "  while (i < n):\n",
        "    print(arr[i] ,end= \"\")\n",
        "    i = i + 1"
      ],
      "metadata": {
        "id": "wM1I5xxG7vHW"
      },
      "execution_count": 8,
      "outputs": []
    }
  ]
}